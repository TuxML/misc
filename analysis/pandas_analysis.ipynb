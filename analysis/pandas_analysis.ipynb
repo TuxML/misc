{
 "cells": [
  {
   "cell_type": "code",
   "execution_count": 6,
   "metadata": {
    "scrolled": true
   },
   "outputs": [],
   "source": [
    "import sys\n",
    "import pandas as pd\n",
    "import matplotlib"
   ]
  },
  {
   "cell_type": "code",
   "execution_count": 7,
   "metadata": {
    "scrolled": true
   },
   "outputs": [],
   "source": [
    "# Results of 100 different .config compilations using kernel_generator.py\n",
    "def get_df_tuxml(exp):\n",
    "    \n",
    "    df=pd.read_pickle(\"../Exp{}/DF{}_kernel_gen\".format(exp, exp))\n",
    "    #df=pd.read_pickle('../analysis/results_latest_2')\n",
    "\n",
    "    df=df.sort_values(by=['compiled_kernel_size'])\n",
    "    df2=df.groupby(['origin_config']).agg({'compilation_time':['mean', 'std'], 'compiled_kernel_size':'first'})\n",
    "    #print(df2.to_string())\n",
    "    #print(df2)\n",
    "\n",
    "    df3=pd.DataFrame({'origin_config': df2.index,\n",
    "                      'Time': df2[('compilation_time', 'mean')],\n",
    "                      'Size': df2[('compiled_kernel_size', 'first')]})\n",
    "    df3=df3.set_index('origin_config')\n",
    "    \n",
    "    return df3"
   ]
  },
  {
   "cell_type": "code",
   "execution_count": 8,
   "metadata": {},
   "outputs": [],
   "source": [
    "# Results of the same 100 .config compilations with the \"native\" method this time\n",
    "def get_df_native(exp):\n",
    "    \n",
    "    with open(\"../Exp{}/sample{}_native.txt\".format(exp, exp), \"r\") as f:\n",
    "        res=list()\n",
    "        #Parsing\n",
    "        for line in f:\n",
    "            time=float(line.split(\"ELAPSEDTIME \")[1].split(\" vmlinux size :\")[0])\n",
    "            if(line.split(\" vmlinux size :\")[1]!='\\n'):\n",
    "                size=int(line.split(\" vmlinux size :\")[1].strip('\\n').strip(' '))\n",
    "            else:\n",
    "                size=None\n",
    "            original=int(line.split(\".config\")[0][-5:])\n",
    "            res.append([original, time, size])\n",
    "\n",
    "        #Dataframe creation\n",
    "        df1=pd.DataFrame(res, columns = ['origin_config', 'Time', 'Size'])\n",
    "        #df1.to_pickle('DF2_native')\n",
    "\n",
    "        df2=df1.groupby(['origin_config']).agg({'Time':['mean', 'std'], 'Size':'mean'})\n",
    "        df3=pd.DataFrame({'origin_config': df2.index,\n",
    "                          'Time': df2[('Time', 'mean')],\n",
    "                          'Size': df2[('Size', 'mean')]})\n",
    "        df3=df3.set_index('origin_config')\n",
    "        #print(df3.to_string())\n",
    "        return df3"
   ]
  },
  {
   "cell_type": "code",
   "execution_count": 10,
   "metadata": {},
   "outputs": [
    {
     "name": "stdout",
     "output_type": "stream",
     "text": [
      "                   Time       Size\n",
      "origin_config                     \n",
      "30200          423.5128  106632848\n",
      "30600          261.7856  231142664\n",
      "31000          182.3252   28113552\n",
      "31400          328.8938   53153472\n",
      "31800          387.9258  152092144\n",
      "32200          258.8434   28356144\n",
      "32600          182.8832   37490392\n",
      "33000          421.3374   71890464\n",
      "33400          573.4422   35048016\n",
      "33800          444.2692   77511720\n",
      "34200          537.1146  462124816\n",
      "34600          489.9278   40126016\n",
      "35000          398.3042   88112064\n",
      "35400          271.5070   43481264\n",
      "35800          965.7506  135643560\n",
      "36200          664.8648  169538992\n",
      "36600          305.2134   52101632\n",
      "37000          372.2074   88673000\n",
      "37400          301.3930   82337936\n",
      "37800          430.5114   39694424\n",
      "38200          648.2808  114961264\n",
      "38600          346.6470   42888968\n",
      "39000          390.9476  119714336\n",
      "39400          426.1016   33205560\n",
      "39800          252.8558         -1\n",
      "40200          346.0932  154356288\n",
      "40600          536.2750   42456448\n",
      "41000          332.3680   44387448\n",
      "41400          339.5616   70184944\n",
      "41800          545.6412  227206008\n",
      "...                 ...        ...\n",
      "60200          339.8060   31468008\n",
      "60600          325.3356   38703616\n",
      "61000          558.0000   56857392\n",
      "61400          363.7488  358280672\n",
      "61800          307.3602   60979584\n",
      "62200          651.2176   52487512\n",
      "62600          336.2618   50653472\n",
      "63000          540.9458  142754680\n",
      "63400          222.4732   33596424\n",
      "63800          366.7560   92448312\n",
      "64200          233.5954   44454808\n",
      "64600          670.9906  429428696\n",
      "65000          753.4222   38693736\n",
      "65400          211.7724   47218296\n",
      "65800          304.7424   39441624\n",
      "66200          226.0424   34626576\n",
      "66600          663.9590   41424416\n",
      "67000          635.4614   30760624\n",
      "67400          248.0182   59247856\n",
      "67800          372.1806   66395448\n",
      "68200          319.2514  112695584\n",
      "68600          631.5344  123727576\n",
      "69000          679.4706   39656464\n",
      "69400          389.1710  161034416\n",
      "69800          421.3540   84612408\n",
      "70200          382.8714   78014720\n",
      "70600          289.6006   59655616\n",
      "71000          993.2028   73250832\n",
      "71400          519.0810  102965112\n",
      "71800          303.5174   57441224\n",
      "\n",
      "[105 rows x 2 columns]\n"
     ]
    }
   ],
   "source": [
    "def get_df(exp, nature):\n",
    "    #get_df(1, tuxml) for 1st exp with tuxml\n",
    "    #get_df(2, native) for 2nd exp with native\n",
    "    if(nature==\"tuxml\"):\n",
    "        df=get_df_tuxml(exp)\n",
    "    elif(nature==\"native\"):\n",
    "        df=get_df_native(exp)\n",
    "    return df\n",
    "\n",
    "df=get_df(2, \"tuxml\")\n",
    "print(df.to_string())"
   ]
  },
  {
   "cell_type": "code",
   "execution_count": null,
   "metadata": {},
   "outputs": [],
   "source": []
  }
 ],
 "metadata": {
  "kernelspec": {
   "display_name": "Python 3",
   "language": "python",
   "name": "python3"
  },
  "language_info": {
   "codemirror_mode": {
    "name": "ipython",
    "version": 3
   },
   "file_extension": ".py",
   "mimetype": "text/x-python",
   "name": "python",
   "nbconvert_exporter": "python",
   "pygments_lexer": "ipython3",
   "version": "3.7.3"
  }
 },
 "nbformat": 4,
 "nbformat_minor": 2
}
