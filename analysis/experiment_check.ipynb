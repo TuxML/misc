{
 "cells": [
  {
   "cell_type": "code",
   "execution_count": 2,
   "metadata": {
    "scrolled": true
   },
   "outputs": [],
   "source": [
    "import MySQLdb\n",
    "import sys\n",
    "import bz2\n",
    "import pandas as pd"
   ]
  },
  {
   "cell_type": "code",
   "execution_count": 3,
   "metadata": {},
   "outputs": [],
   "source": [
    "# Virtual machine IP adress\n",
    "HOST            = \"148.60.11.195\"\n",
    "\n",
    "## MySQL user\n",
    "DB_USER         = \"script2\"\n",
    "\n",
    "## MySQL password\n",
    "DB_PASSWD       = \"ud6cw3xNRKnrOz6H\""
   ]
  },
  {
   "cell_type": "code",
   "execution_count": null,
   "metadata": {},
   "outputs": [],
   "source": [
    "#-------------------- Get sets of identical configs and save result Dataframe ---------------------\n",
    "try:\n",
    "    socket = MySQLdb.connect(HOST, DB_USER, DB_PASSWD, \"IrmaDB_result\")\n",
    "    cursor = socket.cursor()\n",
    "    # firstly select the \"basis\" config files\n",
    "    query=\"SELECT cid, config_file, compiled_kernel_size, compilation_time, hid FROM `compilations` where compiled_kernel_version='4.15' and (cid+200)%400=0 and cid<72000\"\n",
    "    cursor.execute(query)\n",
    "    result= cursor.fetchall()\n",
    "    result=[list(i) for i in result]\n",
    "    df = pd.DataFrame()\n",
    "    # For each of the previously found cid (i.e our sample), we need to find the entries \n",
    "    # which have used the same .config file\n",
    "    for row in result:\n",
    "        query2=\"SELECT cid, compiled_kernel_size, compilation_time, hid FROM compilations \\\n",
    "                WHERE config_file = \\\n",
    "                    (SELECT config_file FROM compilations WHERE cid={})\\\n",
    "                    and cid!={}\".format(row[0], row[0])\n",
    "        cursor.execute(query2)\n",
    "        matches=cursor.fetchall()\n",
    "        # dumb conversion tuple -> list for format issues\n",
    "        matches=[list(i) for i in matches]\n",
    "        for i in matches:\n",
    "            i.insert(0, row[0])\n",
    "        labels=[i[0] for i in cursor.description]\n",
    "        labels.insert(0, 'origin_config')\n",
    "        temp=pd.DataFrame(matches, columns=labels)\n",
    "        df=df.append(temp)\n",
    "    df.to_pickle('results_latest_2')\n",
    "except Exception as e:\n",
    "    print(str(e),\"\\n\" + \"Unable to connect to database\", file=sys.stderr)\n",
    "    exit(-1)\n",
    "finally:\n",
    "    cursor.close()\n",
    "    socket.close()\n",
    "df"
   ]
  },
  {
   "cell_type": "code",
   "execution_count": null,
   "metadata": {},
   "outputs": [],
   "source": []
  }
 ],
 "metadata": {
  "kernelspec": {
   "display_name": "Python 3",
   "language": "python",
   "name": "python3"
  },
  "language_info": {
   "codemirror_mode": {
    "name": "ipython",
    "version": 3
   },
   "file_extension": ".py",
   "mimetype": "text/x-python",
   "name": "python",
   "nbconvert_exporter": "python",
   "pygments_lexer": "ipython3",
   "version": "3.7.3"
  }
 },
 "nbformat": 4,
 "nbformat_minor": 2
}
